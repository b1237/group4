{
 "cells": [
  {
   "cell_type": "code",
   "execution_count": 48,
   "metadata": {},
   "outputs": [],
   "source": [
    "import pandas as pd\n",
    "import numpy as np\n",
    "import matplotlib.pyplot as plt"
   ]
  },
  {
   "cell_type": "code",
   "execution_count": 49,
   "metadata": {},
   "outputs": [],
   "source": [
    "df1=pd.read_csv(\"df1_Ausbl.csv\")\n",
    "df3=pd.read_csv(\"df3_Schulab.csv\")\n",
    "df8i=pd.read_csv(\"df8i_Mig.csv\")\n",
    "df8m=pd.read_csv(\"df8m_Mig.csv\")\n",
    "df8w=pd.read_csv(\"df8w_Mig.csv\")\n",
    "df9i=pd.read_csv(\"df9i_Mig.csv\")\n",
    "df9m=pd.read_csv(\"df9m_Mig.csv\")\n",
    "df9w=pd.read_csv(\"df9w_Mig.csv\")\n",
    "dfH=pd.read_csv(\"dfH_Habl.csv\")"
   ]
  },
  {
   "cell_type": "code",
   "execution_count": 50,
   "metadata": {},
   "outputs": [],
   "source": [
    "def filter_2D(column_name, key, table): \n",
    "    return table[table[column_name].str.contains(key)]"
   ]
  },
  {
   "cell_type": "code",
   "execution_count": 51,
   "metadata": {},
   "outputs": [],
   "source": [
    "\n",
    "# Für df1 mit Nationalität und Geschlecht\n",
    "def plot_func1(column_name, key, table):\n",
    "    df = filter_2D(column_name, key, table)\n",
    "    \n",
    "    ausbe = df[\"Ausbildungsbereich\"].unique()\n",
    "    fig, ax = plt.subplots()\n",
    "    for ausb in ausbe:\n",
    "        ausb_df = df[df[\"Ausbildungsbereich\"] == ausb]\n",
    "        ax.barh(ausb, ausb_df[\"percentage\"])\n",
    "    ax.set_xlabel(\"percentage per distribution\")\n",
    "    ax.set_title(key)\n",
    "    ax.set_yticklabels(ausbe)\n",
    "    plt.show\n",
    "\n",
    "#Für df3 mit Schulabschluss als subplot männlich und weiblich\n",
    "def plot_func3_2(column_name, key, table):\n",
    "    df = filter_2D(column_name, key, table)\n",
    "    \n",
    "    ausbe = df[\"Schulart\"].unique()\n",
    "    fig, ax = plt.subplots(2,1, sharex=True)\n",
    "    for ausb in ausbe:\n",
    "        ausb_df = df[df[\"Schulart\"] == ausb]\n",
    "        ax[0].bar(ausb, ausb_df[\"männlich percentage\"])\n",
    "        ax[1].bar(ausb, ausb_df[\"weiblich percentage\"])\n",
    "    \n",
    "    ax[0].set_ylabel(\"männlich %\")\n",
    "    ax[1].set_ylabel(\"weiblich %\")\n",
    "    plt.xticks(ausbe, rotation=90)\n",
    "    plt.show\n",
    "\n",
    "#Für df3 mit Schulabschluss und männlich oder weiblich als key_value\n",
    "def plot_func3(column_name_Schulab, key, table, key_value):\n",
    "    df = filter_2D(column_name_Schulab, key, table)\n",
    "    \n",
    "    ausbe = df[\"Schulart\"].unique()\n",
    "    fig, ax = plt.subplots()\n",
    "    for ausb in ausbe:\n",
    "        ausb_df = df[df[\"Schulart\"] == ausb]\n",
    "        # key_value:\"männlich percentage\" oder \"weiblich percentage\"\n",
    "        ax.barh(ausb, ausb_df[key_value])\n",
    "    ax.set_title(key_value)\n",
    "    ax.set_xlabel(\"percentage\")\n",
    "    ax.set_yticklabels(ausbe)\n",
    "    \n",
    "    plt.show\n",
    "\n",
    "# Für dfH mit Nationalität und Geschlecht\n",
    "def plot_funcH(column_name_Geschlecht, key, table):\n",
    "    df = filter_2D(column_name_Geschlecht, key, table)\n",
    "    \n",
    "    ausbe = df[\"Fächergruppe\"].unique()\n",
    "    fig, ax = plt.subplots()\n",
    "    for ausb in ausbe:\n",
    "        ausb_df = df[df[\"Fächergruppe\"] == ausb]\n",
    "        ax.barh(ausb, ausb_df[\"percentage\"])\n",
    "    ax.set_xlabel(\"percentage per distribution\")\n",
    "    ax.set_title(key)\n",
    "    ax.set_yticklabels(ausbe)\n",
    "    plt.show\n",
    "\n",
    "\n",
    "# Für df8,df9 mit {i,m,w}                \n",
    "def plot_func_all(table):\n",
    "    table.plot(x=\"Detaillierter Migrationshintergrund\", y=['Prozentual (ohne Migrationshintergrund)', 'Prozentual (mit Migrationshintergrund)'], kind=\"bar\",figsize=(9,8))\n",
    "    plt.show()\n",
    "\n",
    "# nicht sehr schön ausarbeitet\n",
    "def plot_func_select(column_name, key, table):\n",
    "    df= filter_2D(column_name, key, table)\n",
    "    df.plot(x=\"Detaillierter Migrationshintergrund\", y=['Prozentual (ohne Migrationshintergrund)', 'Prozentual (mit Migrationshintergrund)'], kind=\"bar\",title=key, figsize=(9,8))\n",
    "    plt.show()"
   ]
  },
  {
   "cell_type": "code",
   "execution_count": 36,
   "metadata": {},
   "outputs": [
    {
     "name": "stdout",
     "output_type": "stream",
     "text": [
      "Dein Geschlecht?\n",
      "(a) männlich\n",
      "(b)weiblicha\n",
      "Dein Migrationshintergrund?\n",
      "(a) ohne Migrationshintergrund\n",
      "(b) mit Migrationshintergrunda\n",
      "Welchen Schulabschluss strebst du an?\n",
      "(a) Hauptschule\n",
      "(b) Realschule\n",
      "(c) Fachhochschulreife\n",
      "(d) Abitura\n",
      "Welchen berufsqualifizierenden Abschluss strebst du an?\n",
      "(a) nicht-akademischer Abschluss\n",
      "(b) Bachelor\n",
      "(c) Master\n",
      "(d), Diplom/Magister7Staatsexamen\n",
      "(e) Promotiona\n",
      "Welchen Schulabschluss haben deine Eltern (der höchste Abschluss)?\n",
      "(a) Ohne Abschluss\n",
      "(b) Hauptschulabschluss\n",
      "(c) Mittlerer Schulabschluss\n",
      "(d) Fachhochschulreife\n",
      "(e) Allgemeine Hochschulreifea\n",
      "you got 5 out of 5\n"
     ]
    }
   ],
   "source": [
    "class Question:\n",
    "     def __init__(self, prompt, answer):\n",
    "          self.prompt = prompt\n",
    "          self.answer = answer\n",
    "\n",
    "question_prompts = [\n",
    "     \"Dein Geschlecht?\\n(a) männlich\\n(b)weiblich\",\n",
    "     \"Dein Migrationshintergrund?\\n(a) ohne Migrationshintergrund\\n(b) mit Migrationshintergrund\",\n",
    "     \"Welchen Schulabschluss strebst du an?\\n(a) Hauptschule\\n(b) Realschule\\n(c) Fachhochschulreife\\n(d) Abitur\",\n",
    "     \"Welchen berufsqualifizierenden Abschluss strebst du an?\\n(a) nicht-akademischer Abschluss\\n(b) Bachelor\\n(c) Master\\n(d), Diplom/Magister7Staatsexamen\\n(e) Promotion\",\n",
    "     \"Welchen Schulabschluss haben deine Eltern (der höchste Abschluss)?\\n(a) Ohne Abschluss\\n(b) Hauptschulabschluss\\n(c) Mittlerer Schulabschluss\\n(d) Fachhochschulreife\\n(e) Allgemeine Hochschulreife\",\n",
    "     \n",
    "\n",
    "]\n",
    "\n",
    "questions = [\n",
    "     Question(question_prompts[0], \"a\"),\n",
    "     Question(question_prompts[1], \"a\"),\n",
    "     Question(question_prompts[2], \"a\"),\n",
    "     Question(question_prompts[3], \"a\"),\n",
    "     Question(question_prompts[4], \"a\")\n",
    "     \n",
    "]\n",
    "\n",
    "def run_quiz(questions):\n",
    "     score = 0\n",
    "     for question in questions:\n",
    "          answer = input(question.prompt)\n",
    "          if answer == question.answer:\n",
    "               score += 1\n",
    "     print(\"you got\", score, \"out of\", len(questions))\n",
    "    \n",
    "    \n",
    "\n",
    "run_quiz(questions)"
   ]
  },
  {
   "cell_type": "code",
   "execution_count": 75,
   "metadata": {},
   "outputs": [
    {
     "ename": "KeyboardInterrupt",
     "evalue": "Interrupted by user",
     "output_type": "error",
     "traceback": [
      "\u001b[1;31m---------------------------------------------------------------------------\u001b[0m",
      "\u001b[1;31mKeyboardInterrupt\u001b[0m                         Traceback (most recent call last)",
      "\u001b[1;32m<ipython-input-75-461cab217734>\u001b[0m in \u001b[0;36m<module>\u001b[1;34m\u001b[0m\n\u001b[0;32m      6\u001b[0m             \u001b[0mplot_func1\u001b[0m\u001b[1;33m(\u001b[0m\u001b[1;34m\"Nationalität\"\u001b[0m\u001b[1;33m,\u001b[0m \u001b[1;34m\"Deutsche\"\u001b[0m\u001b[1;33m,\u001b[0m \u001b[0mdf1\u001b[0m\u001b[1;33m)\u001b[0m\u001b[1;33m\u001b[0m\u001b[1;33m\u001b[0m\u001b[0m\n\u001b[0;32m      7\u001b[0m \u001b[1;33m\u001b[0m\u001b[0m\n\u001b[1;32m----> 8\u001b[1;33m \u001b[0mrun_quiz1\u001b[0m\u001b[1;33m(\u001b[0m\u001b[0mquestions\u001b[0m\u001b[1;33m)\u001b[0m\u001b[1;33m\u001b[0m\u001b[1;33m\u001b[0m\u001b[0m\n\u001b[0m",
      "\u001b[1;32m<ipython-input-75-461cab217734>\u001b[0m in \u001b[0;36mrun_quiz1\u001b[1;34m(questions)\u001b[0m\n\u001b[0;32m      2\u001b[0m \u001b[1;32mdef\u001b[0m \u001b[0mrun_quiz1\u001b[0m\u001b[1;33m(\u001b[0m\u001b[0mquestions\u001b[0m\u001b[1;33m)\u001b[0m\u001b[1;33m:\u001b[0m\u001b[1;33m\u001b[0m\u001b[1;33m\u001b[0m\u001b[0m\n\u001b[0;32m      3\u001b[0m     \u001b[1;32mfor\u001b[0m \u001b[0mquestion\u001b[0m \u001b[1;32min\u001b[0m \u001b[0mquestions\u001b[0m\u001b[1;33m:\u001b[0m\u001b[1;33m\u001b[0m\u001b[1;33m\u001b[0m\u001b[0m\n\u001b[1;32m----> 4\u001b[1;33m         \u001b[0manswer\u001b[0m \u001b[1;33m=\u001b[0m \u001b[0minput\u001b[0m\u001b[1;33m(\u001b[0m\u001b[0mquestion\u001b[0m\u001b[1;33m.\u001b[0m\u001b[0mprompt\u001b[0m\u001b[1;33m[\u001b[0m\u001b[1;36m1\u001b[0m\u001b[1;33m]\u001b[0m\u001b[1;33m)\u001b[0m\u001b[1;33m\u001b[0m\u001b[1;33m\u001b[0m\u001b[0m\n\u001b[0m\u001b[0;32m      5\u001b[0m         \u001b[1;32mif\u001b[0m \u001b[0manswer\u001b[0m \u001b[1;33m==\u001b[0m \u001b[0mquestion\u001b[0m\u001b[1;33m.\u001b[0m\u001b[0manswer\u001b[0m\u001b[1;33m:\u001b[0m\u001b[1;33m\u001b[0m\u001b[1;33m\u001b[0m\u001b[0m\n\u001b[0;32m      6\u001b[0m             \u001b[0mplot_func1\u001b[0m\u001b[1;33m(\u001b[0m\u001b[1;34m\"Nationalität\"\u001b[0m\u001b[1;33m,\u001b[0m \u001b[1;34m\"Deutsche\"\u001b[0m\u001b[1;33m,\u001b[0m \u001b[0mdf1\u001b[0m\u001b[1;33m)\u001b[0m\u001b[1;33m\u001b[0m\u001b[1;33m\u001b[0m\u001b[0m\n",
      "\u001b[1;32m~\\anaconda3\\lib\\site-packages\\ipykernel\\kernelbase.py\u001b[0m in \u001b[0;36mraw_input\u001b[1;34m(self, prompt)\u001b[0m\n\u001b[0;32m    858\u001b[0m                 \u001b[1;34m\"raw_input was called, but this frontend does not support input requests.\"\u001b[0m\u001b[1;33m\u001b[0m\u001b[1;33m\u001b[0m\u001b[0m\n\u001b[0;32m    859\u001b[0m             )\n\u001b[1;32m--> 860\u001b[1;33m         return self._input_request(str(prompt),\n\u001b[0m\u001b[0;32m    861\u001b[0m             \u001b[0mself\u001b[0m\u001b[1;33m.\u001b[0m\u001b[0m_parent_ident\u001b[0m\u001b[1;33m,\u001b[0m\u001b[1;33m\u001b[0m\u001b[1;33m\u001b[0m\u001b[0m\n\u001b[0;32m    862\u001b[0m             \u001b[0mself\u001b[0m\u001b[1;33m.\u001b[0m\u001b[0m_parent_header\u001b[0m\u001b[1;33m,\u001b[0m\u001b[1;33m\u001b[0m\u001b[1;33m\u001b[0m\u001b[0m\n",
      "\u001b[1;32m~\\anaconda3\\lib\\site-packages\\ipykernel\\kernelbase.py\u001b[0m in \u001b[0;36m_input_request\u001b[1;34m(self, prompt, ident, parent, password)\u001b[0m\n\u001b[0;32m    902\u001b[0m             \u001b[1;32mexcept\u001b[0m \u001b[0mKeyboardInterrupt\u001b[0m\u001b[1;33m:\u001b[0m\u001b[1;33m\u001b[0m\u001b[1;33m\u001b[0m\u001b[0m\n\u001b[0;32m    903\u001b[0m                 \u001b[1;31m# re-raise KeyboardInterrupt, to truncate traceback\u001b[0m\u001b[1;33m\u001b[0m\u001b[1;33m\u001b[0m\u001b[1;33m\u001b[0m\u001b[0m\n\u001b[1;32m--> 904\u001b[1;33m                 \u001b[1;32mraise\u001b[0m \u001b[0mKeyboardInterrupt\u001b[0m\u001b[1;33m(\u001b[0m\u001b[1;34m\"Interrupted by user\"\u001b[0m\u001b[1;33m)\u001b[0m \u001b[1;32mfrom\u001b[0m \u001b[1;32mNone\u001b[0m\u001b[1;33m\u001b[0m\u001b[1;33m\u001b[0m\u001b[0m\n\u001b[0m\u001b[0;32m    905\u001b[0m             \u001b[1;32mexcept\u001b[0m \u001b[0mException\u001b[0m \u001b[1;32mas\u001b[0m \u001b[0me\u001b[0m\u001b[1;33m:\u001b[0m\u001b[1;33m\u001b[0m\u001b[1;33m\u001b[0m\u001b[0m\n\u001b[0;32m    906\u001b[0m                 \u001b[0mself\u001b[0m\u001b[1;33m.\u001b[0m\u001b[0mlog\u001b[0m\u001b[1;33m.\u001b[0m\u001b[0mwarning\u001b[0m\u001b[1;33m(\u001b[0m\u001b[1;34m\"Invalid Message:\"\u001b[0m\u001b[1;33m,\u001b[0m \u001b[0mexc_info\u001b[0m\u001b[1;33m=\u001b[0m\u001b[1;32mTrue\u001b[0m\u001b[1;33m)\u001b[0m\u001b[1;33m\u001b[0m\u001b[1;33m\u001b[0m\u001b[0m\n",
      "\u001b[1;31mKeyboardInterrupt\u001b[0m: Interrupted by user"
     ]
    }
   ],
   "source": [
    "\n",
    "#differenzierung männlich weiblich und Connection zu Arnes Teil\n",
    "def run_quiz1(questions):\n",
    "    for question in questions:\n",
    "        answer = input(question.prompt[1])\n",
    "        if answer == question.answer:\n",
    "            plot_func1(\"Nationalität\", \"Deutsche\", df1)\n",
    "            \n",
    "run_quiz1(questions)"
   ]
  },
  {
   "cell_type": "code",
   "execution_count": 55,
   "metadata": {
    "collapsed": true
   },
   "outputs": [
    {
     "name": "stderr",
     "output_type": "stream",
     "text": [
      "<ipython-input-51-93d491ee9fdb>:12: UserWarning: FixedFormatter should only be used together with FixedLocator\n",
      "  ax.set_yticklabels(ausbe)\n"
     ]
    },
    {
     "data": {
      "image/png": "[encoded data removed]",
      "text/plain": [
       "<Figure size 432x288 with 1 Axes>"
      ]
     },
     "metadata": {
      "needs_background": "light"
     },
     "output_type": "display_data"
    }
   ],
   "source": [
    "#plot_func1(\"Nationalität\", \"Deutsche\", df1) -> Schulabschluss nach Nationalität oder Geschlecht\n",
    "\n",
    "#plot_func3_2(\"Schulabschluss\", \"Hauptschulabschluss\", df3) -> Schulabschluss nach Schulabschluss der Eltern\n",
    "\n",
    "#plot_func3(\"Schulabschluss\", \"Hauptschulabschluss\", df3, \"weiblich percentage\") -> Schulabschluss nach Abschluss der Eltern und Geschlecht\n",
    "\n",
    "#plot_funcH(\"Nationalität\", \"Deutsche\", dfH) -> Habilitationen nach Nationalität oder Geschlecht\n",
    "\n",
    "#plot_func_all(df8w) -> \n",
    "\n",
    "#"
   ]
  },
  {
   "cell_type": "code",
   "execution_count": null,
   "metadata": {},
   "outputs": [],
   "source": [
    "#nicht beachten, das ist der Notfallplan lmao\n",
    "\n",
    "\n",
    "#männlich, ohne Migrationshintergrund, Hauptschule, nicht-akademischer Abschluss, ohne Abschluss\n",
    "questions_männlich_ohneMH_Hauptschule_nichtakademisch_ohneAbschluss = [\n",
    "     Question(question_prompts[0], \"a\"),\n",
    "     Question(question_prompts[1], \"a\"),\n",
    "     Question(question_prompts[2], \"a\"),\n",
    "     Question(question_prompts[3], \"a\"),\n",
    "     Question(question_prompts[4], \"a\")\n",
    "    \n",
    "]\n",
    "\n",
    "#männlich, ohne Migrationshintergrund, Hauptschule, nicht-akademischer Abschluss, ohne Abschluss\n",
    "questions1_männlich_mitMH_Hauptschule_nichtakademisch_ohneAbschluss = [\n",
    "     Question(question_prompts[0], \"a\"),\n",
    "     Question(question_prompts[1], \"b\"),\n",
    "     Question(question_prompts[2], \"a\"),\n",
    "     Question(question_prompts[3], \"a\"),\n",
    "     Question(question_prompts[4], \"a\")\n",
    "    \n",
    "]\n",
    "\n",
    "#männlich, ohne Migrationshintergrund, Hauptschule, nicht-akademischer Abschluss, ohne Abschluss\n",
    "questions1_männlich_mitMH_Hauptschule_nichtakademisch_ohneAbschluss = [\n",
    "     Question(question_prompts[0], \"a\"),\n",
    "     Question(question_prompts[1], \"b\"),\n",
    "     Question(question_prompts[2], \"a\"),\n",
    "     Question(question_prompts[3], \"a\"),\n",
    "     Question(question_prompts[4], \"a\")\n",
    "    \n",
    "]"
   ]
  },
  {
   "cell_type": "code",
   "execution_count": null,
   "metadata": {},
   "outputs": [],
   "source": [
    "#differenzierung männlich weiblich und Connection zu Arnes Teil\n",
    "def run_quiz1(questions):\n",
    "    for question in questions:\n",
    "        answer = input(question.prompt)\n",
    "        if answer == question.answer[0]:\n",
    "            plot_func1(\"Nationalität\", \"Deutsche\", df1)\n",
    "            \n",
    "run_quiz1(questions)"
   ]
  },
  {
   "cell_type": "code",
   "execution_count": null,
   "metadata": {},
   "outputs": [],
   "source": []
  }
 ],
 "metadata": {
  "kernelspec": {
   "display_name": "Python 3",
   "language": "python",
   "name": "python3"
  },
  "language_info": {
   "codemirror_mode": {
    "name": "ipython",
    "version": 3
   },
   "file_extension": ".py",
   "mimetype": "text/x-python",
   "name": "python",
   "nbconvert_exporter": "python",
   "pygments_lexer": "ipython3",
   "version": "3.8.5"
  }
 },
 "nbformat": 4,
 "nbformat_minor": 4
}
